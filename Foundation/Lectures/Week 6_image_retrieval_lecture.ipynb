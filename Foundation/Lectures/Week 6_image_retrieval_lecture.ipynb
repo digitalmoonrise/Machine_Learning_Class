{
 "cells": [
  {
   "cell_type": "markdown",
   "metadata": {},
   "source": [
    "#Lecture"
   ]
  },
  {
   "cell_type": "markdown",
   "metadata": {},
   "source": [
    "##Deep Learning"
   ]
  },
  {
   "cell_type": "code",
   "execution_count": 1,
   "metadata": {
    "collapsed": true
   },
   "outputs": [],
   "source": [
    "##Side note: make a site that scrapes pinterest, clothing stores \n",
    "#etc and then compiles the images and makes a product recommender\n",
    "#off of this. Get Affiliate money. "
   ]
  },
  {
   "cell_type": "code",
   "execution_count": 2,
   "metadata": {
    "collapsed": true
   },
   "outputs": [],
   "source": [
    "##Side Note: Use a training set of dogs that are labeled \n",
    "#and use it to make a mutt identifier. You can take a \n",
    "#picture of your mutt and then it spits out the dogs that\n",
    "#it is most similar to. \n"
   ]
  },
  {
   "cell_type": "markdown",
   "metadata": {},
   "source": [
    "###Neural Networks"
   ]
  },
  {
   "cell_type": "markdown",
   "metadata": {},
   "source": [
    "Use graphs to represent classifiers. \n",
    "   \n",
    "A one layer neural network is the same as a linear model. \n",
    "\n",
    "XOR = [x1 and not x2] OR [not x1 and x2]\n",
    "\n",
    "Image Features or Interest Points\n",
    "    A. Features = local detectors. \n",
    "    B. Neural Networks try to find collections of intersting points. These are combined to find features. \n",
    "    \n",
    "Neural networks capture different features at different\n",
    "levels and learn features automatically through this process. \n",
    "\n",
    "Deep Features: Allow you to build classifiers without a lot of data. \n",
    "\n",
    "Transfer learning: use data from one task to help learn on another. \n",
    "    --Generally, you'd use your initial layers for prediction, and then cut out the layers that get very specific. \n",
    "    \n",
    " Transfer learning model:\n",
    "  some labeled data>extract features w neural net>training set>learn simple classifier>Validate\n",
    "  \n",
    "Box Diagram for Image Classification:\n",
    "Training data(Image and a label)>feature extractiion>\n",
    "ML Model(Ie.could be logistic regression)>yhat = predicted labels. \n",
    "\n",
    "Quality metric = classification accuracy. y v yhat\n",
    "\n"
   ]
  },
  {
   "cell_type": "markdown",
   "metadata": {},
   "source": [
    "1. none 2. 1 and 2 3. #2 4. 1 and 3?? 5. 1 6. 2\n",
    "\n",
    "only 5 and 6 correct \n",
    "\n",
    "1. 3 2. 3 3. 4 \n",
    "\n",
    "try 3\n",
    "\n",
    "2. 4 3. 3\n",
    "\n",
    "Both Wrong:\n",
    "\n",
    "So\n",
    "2: Not: 1&2 | 3 | 4\n",
    "3: Not: 1 | 2 | 3 | 4 \n",
    "\n",
    "Review: 'Learning very non-linear features\n",
    "\n",
    "Known:\n",
    "\n",
    "1. 3\n",
    "2. 1|2|3\n",
    "3. X\n",
    "4. 1 and 3\n",
    "5. 1\n",
    "6. 2 "
   ]
  },
  {
   "cell_type": "code",
   "execution_count": null,
   "metadata": {
    "collapsed": true
   },
   "outputs": [],
   "source": []
  }
 ],
 "metadata": {
  "kernelspec": {
   "display_name": "Python 2",
   "language": "python",
   "name": "python2"
  },
  "language_info": {
   "codemirror_mode": {
    "name": "ipython",
    "version": 2
   },
   "file_extension": ".py",
   "mimetype": "text/x-python",
   "name": "python",
   "nbconvert_exporter": "python",
   "pygments_lexer": "ipython2",
   "version": "2.7.10"
  }
 },
 "nbformat": 4,
 "nbformat_minor": 0
}
