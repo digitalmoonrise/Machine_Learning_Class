{
 "cells": [
  {
   "cell_type": "markdown",
   "metadata": {},
   "source": [
    "#Nearest neighbor and kernel regression"
   ]
  },
  {
   "cell_type": "markdown",
   "metadata": {},
   "source": [
    "##Nonparametric Approaches"
   ]
  },
  {
   "cell_type": "markdown",
   "metadata": {},
   "source": [
    "###Simple approaches with lots of flexibility, negative is that you need lots of data. The complexity of the f(x) grows with the number of observations. "
   ]
  },
  {
   "cell_type": "markdown",
   "metadata": {},
   "source": [
    "####Nearest Neighbor Regression"
   ]
  },
  {
   "cell_type": "markdown",
   "metadata": {},
   "source": [
    "######Xnn <- min distance(xi,xq)\n",
    "######y-hatq = Ynn \n",
    "\n",
    "#######Basically the house that is the nearest on the plot to the input is the nn"
   ]
  },
  {
   "cell_type": "markdown",
   "metadata": {},
   "source": [
    "##1-NN Algo\n",
    "\n",
    "Initialize Dist2nn = infitiy, nearesthouse = 0\n",
    "For i - 1,2,...,N\n",
    "    compute o = distance(xi,xq)\n",
    "        if o < dist2nn\n",
    "            set nearest house = xi\n",
    "            set Dist2NN = o\n",
    "    return nearesthouse\n",
    "    \n"
   ]
  },
  {
   "cell_type": "markdown",
   "metadata": {},
   "source": [
    "#####1NN  very sensitive to noise in data. "
   ]
  },
  {
   "cell_type": "markdown",
   "metadata": {},
   "source": [
    "##K-nearest Neighbors"
   ]
  },
  {
   "cell_type": "markdown",
   "metadata": {},
   "source": [
    "K nearest neighbors is going to take and inpunt and find the k nearest neighbors."
   ]
  },
  {
   "cell_type": "markdown",
   "metadata": {},
   "source": [
    "####Predicted value y-hat = 1/K ϵ Ynnj  (average of the k distances from input)"
   ]
  },
  {
   "cell_type": "markdown",
   "metadata": {},
   "source": [
    "###\n",
    "knn algo\n",
    "\n",
    "Initialize dist2kNN = sort k houses by distance to query house\n",
    "            nearesthouse = sort(houses)\n",
    "for i = k + 1,...,N\n",
    "    compute: o = distance(xi,xq)\n",
    "        if o < Dist2kNN[k]\n",
    "            find j such that o > Dist2knn[j-1] and o < Dist2kNN[j]\n",
    "            remove furthest house and shift queue:\n",
    "                nearesthoust[j+1:k = nearesthoust[j:k-1]\n",
    "                dist2knn[j+1:k = dist2knn[j:k-1]]\n",
    "            set dist2knn[j] = o and nearesthouse = xi\n",
    "    return k most similar houses\n",
    "###"
   ]
  },
  {
   "cell_type": "markdown",
   "metadata": {},
   "source": [
    "#####KNN better deals with noise in the data."
   ]
  },
  {
   "cell_type": "markdown",
   "metadata": {},
   "source": [
    "##Weighted k-NN"
   ]
  },
  {
   "cell_type": "markdown",
   "metadata": {},
   "source": [
    "####Weight more similar houses more than those less similar in list of k-NN"
   ]
  },
  {
   "cell_type": "code",
   "execution_count": 3,
   "metadata": {
    "collapsed": true
   },
   "outputs": [],
   "source": [
    "##Simple method of weighting is CqNNj = 1/distance(xi, yi)\n",
    "##Adding weight to each observation based on how far point is away"
   ]
  },
  {
   "cell_type": "markdown",
   "metadata": {},
   "source": [
    "##Kernel Regression"
   ]
  },
  {
   "cell_type": "code",
   "execution_count": 4,
   "metadata": {
    "collapsed": true
   },
   "outputs": [],
   "source": [
    "#The larger the bandwith of lamda the more variance decreases. \n",
    "#what type of kernal doesn't matter that much. \n",
    "        #lambda weight [bandwith] is way more important"
   ]
  },
  {
   "cell_type": "markdown",
   "metadata": {},
   "source": [
    "###Choosing  λ (or k in k-nn) How to choose?"
   ]
  },
  {
   "cell_type": "code",
   "execution_count": 5,
   "metadata": {
    "collapsed": true
   },
   "outputs": [],
   "source": [
    "#Cross validation!"
   ]
  },
  {
   "cell_type": "markdown",
   "metadata": {},
   "source": [
    "###Fitting globally vs fitting locally"
   ]
  },
  {
   "cell_type": "code",
   "execution_count": 6,
   "metadata": {
    "collapsed": true
   },
   "outputs": [],
   "source": [
    "#locally weighted avgs are fitting a f(X) to every point in a data set"
   ]
  },
  {
   "cell_type": "code",
   "execution_count": 7,
   "metadata": {
    "collapsed": true
   },
   "outputs": [],
   "source": [
    "#General recommendation is using just simple local linear regression. IE fitting \n",
    "#lines at every point"
   ]
  },
  {
   "cell_type": "code",
   "execution_count": 8,
   "metadata": {
    "collapsed": true
   },
   "outputs": [],
   "source": [
    "#A great thing is that with noise (epsilon) = 0, the MSE of a 1NN fit goes to 0. \n",
    "#This is not true to parametric fits. "
   ]
  },
  {
   "cell_type": "code",
   "execution_count": 9,
   "metadata": {
    "collapsed": true
   },
   "outputs": [],
   "source": [
    "#As you get more observations you should have the k grow as well. "
   ]
  },
  {
   "cell_type": "code",
   "execution_count": 10,
   "metadata": {
    "collapsed": false
   },
   "outputs": [
    {
     "data": {
      "text/plain": [
       "10000000"
      ]
     },
     "execution_count": 10,
     "metadata": {},
     "output_type": "execute_result"
    }
   ],
   "source": [
    "100000*100"
   ]
  },
  {
   "cell_type": "code",
   "execution_count": 11,
   "metadata": {
    "collapsed": false
   },
   "outputs": [
    {
     "data": {
      "text/plain": [
       "100000000"
      ]
     },
     "execution_count": 11,
     "metadata": {},
     "output_type": "execute_result"
    }
   ],
   "source": [
    "10000000*10"
   ]
  },
  {
   "cell_type": "markdown",
   "metadata": {},
   "source": [
    "quiz:\n",
    "1. 3, 2|3\n",
    "2. 3\n",
    "3. 2\n",
    "4. T\n",
    "5. F\n",
    "6. 10, 1 \n",
    "7. 5\n",
    "##All correct"
   ]
  },
  {
   "cell_type": "code",
   "execution_count": null,
   "metadata": {
    "collapsed": true
   },
   "outputs": [],
   "source": []
  }
 ],
 "metadata": {
  "kernelspec": {
   "display_name": "Python 2",
   "language": "python",
   "name": "python2"
  },
  "language_info": {
   "codemirror_mode": {
    "name": "ipython",
    "version": 2
   },
   "file_extension": ".py",
   "mimetype": "text/x-python",
   "name": "python",
   "nbconvert_exporter": "python",
   "pygments_lexer": "ipython2",
   "version": "2.7.10"
  }
 },
 "nbformat": 4,
 "nbformat_minor": 0
}
